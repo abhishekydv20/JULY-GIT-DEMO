{
 "cells": [
  {
   "cell_type": "code",
   "execution_count": 6,
   "metadata": {},
   "outputs": [
    {
     "name": "stdout",
     "output_type": "stream",
     "text": [
      "heyy this is abhishek yadav and i am 20 year old!\n",
      "error is not occured\n",
      "hey i will always execute!\n",
      "this is important line please execute it 1\n",
      "this is important line please execute it 2\n",
      "this is important line please execute it 3\n",
      "this is important line please execute it 4\n",
      "this is important line please execute it 5\n"
     ]
    }
   ],
   "source": [
    "try:\n",
    "\n",
    "    name = input('plz enter your name : ')\n",
    "    age = int(input('plz enter your age : '))\n",
    "    print(f\"heyy this is {name} and i am {age} year old!\")\n",
    "\n",
    "except:\n",
    "    print('error is occured, plz dont stop program execution')\n",
    "\n",
    "else:\n",
    "    print('error is not occured')\n",
    "\n",
    "finally:\n",
    "    print(\"hey i will always execute!\")\n",
    "\n",
    "\n",
    "print(\"this is important line please execute it 1\")\n",
    "print(\"this is important line please execute it 2\")\n",
    "print(\"this is important line please execute it 3\")\n",
    "print(\"this is important line please execute it 4\")\n",
    "print(\"this is important line please execute it 5\")"
   ]
  },
  {
   "cell_type": "code",
   "execution_count": 7,
   "metadata": {},
   "outputs": [
    {
     "data": {
      "text/plain": [
       "63"
      ]
     },
     "execution_count": 7,
     "metadata": {},
     "output_type": "execute_result"
    }
   ],
   "source": [
    "ls = [25,41,63,96,85]\n",
    "ls[2]"
   ]
  },
  {
   "cell_type": "code",
   "execution_count": 10,
   "metadata": {},
   "outputs": [
    {
     "name": "stdout",
     "output_type": "stream",
     "text": [
      "plz dont assign 0 to num2\n"
     ]
    }
   ],
   "source": [
    "try:\n",
    "    num1 = int(input('plz enter your first number : '))\n",
    "    num2 = int(input('plz enter your second number : '))\n",
    "\n",
    "    output = num1 / num2\n",
    "    print('this is your output : ',output)\n",
    "except ValueError:\n",
    "    print('plz enter valid input')\n",
    "\n",
    "except ZeroDivisionError:\n",
    "    print(\"plz dont assign 0 to num2\")\n",
    "\n",
    "\n",
    " # ValueError  \n",
    " # ZeroDivisionError                \n"
   ]
  },
  {
   "cell_type": "code",
   "execution_count": null,
   "metadata": {},
   "outputs": [],
   "source": []
  },
  {
   "cell_type": "code",
   "execution_count": null,
   "metadata": {},
   "outputs": [],
   "source": []
  },
  {
   "cell_type": "code",
   "execution_count": null,
   "metadata": {},
   "outputs": [],
   "source": []
  }
 ],
 "metadata": {
  "kernelspec": {
   "display_name": "Python 3",
   "language": "python",
   "name": "python3"
  },
  "language_info": {
   "codemirror_mode": {
    "name": "ipython",
    "version": 3
   },
   "file_extension": ".py",
   "mimetype": "text/x-python",
   "name": "python",
   "nbconvert_exporter": "python",
   "pygments_lexer": "ipython3",
   "version": "3.12.4"
  }
 },
 "nbformat": 4,
 "nbformat_minor": 2
}
